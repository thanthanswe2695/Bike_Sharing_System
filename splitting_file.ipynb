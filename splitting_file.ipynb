{
 "cells": [
  {
   "cell_type": "markdown",
   "metadata": {},
   "source": [
    "# Splitting csv file into training and testing csv file"
   ]
  },
  {
   "cell_type": "code",
   "execution_count": 25,
   "metadata": {},
   "outputs": [],
   "source": [
    "import pandas as pd \n",
    "import pickle as pkl\n",
    "from sklearn.externals.joblib import dump\n",
    "from sklearn.externals.joblib import load\n",
    "\n",
    "file = open(\"train_test_entireDataset.csv\")\n",
    "### delete unamed and count column\n",
    "numline = len(file.readlines())-1\n",
    "# print (numline)\n",
    "training_size=int(numline*0.8)\n",
    "testing_size=int(numline*0.2)\n",
    "# print(training_size)\n",
    "# print(testing_size)\n",
    "batch_no=1\n",
    "chunksize=2\n",
    "for chunk in pd.read_csv('train_test_entireDataset.csv',chunksize=training_size):\n",
    "    if batch_no ==1:\n",
    "        chunk.to_csv('training_dataset.csv',index=False)\n",
    "        batch_no+=1\n",
    "    else:\n",
    "        chunk.to_csv('testing_dataset.csv',index=False)\n",
    "        break;\n",
    "        "
   ]
  },
  {
   "cell_type": "code",
   "execution_count": 26,
   "metadata": {},
   "outputs": [
    {
     "data": {
      "text/plain": [
       "['training_bike_sharing.pkl']"
      ]
     },
     "execution_count": 26,
     "metadata": {},
     "output_type": "execute_result"
    }
   ],
   "source": [
    "X=pd.read_csv('training_dataset.csv')\n",
    "#Save model for splitted training dataset as a pickle file \n",
    "model = 'training_bike_sharing.pkl'\n",
    "dump(X, model)"
   ]
  },
  {
   "cell_type": "code",
   "execution_count": 27,
   "metadata": {},
   "outputs": [
    {
     "data": {
      "text/plain": [
       "['testing_bike_sharing.pkl']"
      ]
     },
     "execution_count": 27,
     "metadata": {},
     "output_type": "execute_result"
    }
   ],
   "source": [
    "Y=pd.read_csv('testing_dataset.csv')\n",
    "\n",
    "#Save model for splitted test dataset as a pickle file \n",
    "model = 'testing_bike_sharing.pkl'\n",
    "dump(Y, model)"
   ]
  },
  {
   "cell_type": "code",
   "execution_count": null,
   "metadata": {},
   "outputs": [],
   "source": []
  }
 ],
 "metadata": {
  "kernelspec": {
   "display_name": "Python 3",
   "language": "python",
   "name": "python3"
  },
  "language_info": {
   "codemirror_mode": {
    "name": "ipython",
    "version": 3
   },
   "file_extension": ".py",
   "mimetype": "text/x-python",
   "name": "python",
   "nbconvert_exporter": "python",
   "pygments_lexer": "ipython3",
   "version": "3.7.3"
  }
 },
 "nbformat": 4,
 "nbformat_minor": 2
}
